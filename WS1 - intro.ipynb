{
 "cells": [
  {
   "cell_type": "markdown",
   "metadata": {},
   "source": [
    "# Machine Learning \n",
    "## Worksheet 1: Introduction"
   ]
  },
  {
   "cell_type": "markdown",
   "metadata": {},
   "source": [
    "This is an introduction to Jupyter/IPython notebooks for Exeter students taking Machine Learning.\n",
    "\n",
    "If you can see this, you've successfully got an IPython notebook server running. Congratulations!  Follow this notebook to learn more about notebooks and some common operations in IPython.  There's a lot more information about IPython at http://www.ipython.org and elsewhere on the web.\n",
    "\n",
    "## IPython notebooks\n",
    "\n",
    "IPython itself is built on top of Python and includes a lot of functionality to make interactive programming and data exploration simpler.  The IPython notebook is an arrangement whereby a Python kernel evaluates code which is typed into \"cells\" in a browser notebook.  The code is shipped to the kernel, evaluated and then the result is displayed below the cell. Here are a couple of simple cells.\n",
    "\n",
    "To execute cells in this notebook, not written by you, you will have to indicate that you trust it.  Do this by selecting 'Trust Notebook' from the 'File' menu.  You'll need to do this with other notebooks that you download."
   ]
  },
  {
   "cell_type": "code",
   "execution_count": 4,
   "metadata": {},
   "outputs": [
    {
     "data": {
      "text/plain": [
       "35"
      ]
     },
     "execution_count": 4,
     "metadata": {},
     "output_type": "execute_result"
    }
   ],
   "source": [
    "a = 35\n",
    "a"
   ]
  },
  {
   "cell_type": "code",
   "execution_count": 5,
   "metadata": {
    "scrolled": true
   },
   "outputs": [
    {
     "name": "stdout",
     "output_type": "stream",
     "text": [
      "1\n",
      "2\n",
      "4\n",
      "8\n",
      "16\n",
      "32\n",
      "64\n",
      "128\n",
      "256\n",
      "512\n",
      "1024\n",
      "2048\n",
      "4096\n",
      "8192\n",
      "16384\n",
      "32768\n",
      "65536\n",
      "131072\n",
      "262144\n",
      "524288\n"
     ]
    }
   ],
   "source": [
    "for i in range(20):\n",
    "    print(2**i)"
   ]
  },
  {
   "cell_type": "markdown",
   "metadata": {},
   "source": [
    "By pressing shift+return in the cells above you can cause the cell to be executed and the result displayed.  Try it.  You can also press the \"play button\" on the toolbar or select \"Run\" from the \"Cell\" menu above.  Pressing control+return executes this cell and moves on to the next cell.\n",
    "\n",
    "Notice that each time you execute the cell the counter in the \"In []\" prompt is incremented, so you can tell the order in which cells are executed.\n",
    "\n",
    "You can edit the code in the cell to get a different result. This can be very useful, repeatedly edit and execute the code in the cell until you get the desired result, then move on to a new cell.\n",
    "\n",
    "In the cell below write a loop to sum the powers $2^n$ for n in the range(20), putting the result in the variable S."
   ]
  },
  {
   "cell_type": "code",
   "execution_count": 6,
   "metadata": {},
   "outputs": [
    {
     "data": {
      "text/plain": [
       "1048575"
      ]
     },
     "execution_count": 6,
     "metadata": {},
     "output_type": "execute_result"
    }
   ],
   "source": [
    "S = 0     # Initialise sum to 0\n",
    "# Your code here ....\n",
    "\n",
    "for n in range(20):\n",
    "    S += 2**n\n",
    "\n",
    "# The result of the last statement in a cell is displayed, \n",
    "# so S on its own line below will result in it being displayed.\n",
    "S"
   ]
  },
  {
   "cell_type": "markdown",
   "metadata": {},
   "source": [
    "The result of your calculation is available in all other cells (including ones above if you re-execute them).  For example, below we can print S."
   ]
  },
  {
   "cell_type": "code",
   "execution_count": 7,
   "metadata": {},
   "outputs": [
    {
     "name": "stdout",
     "output_type": "stream",
     "text": [
      "1048575\n"
     ]
    }
   ],
   "source": [
    "print(S)"
   ]
  },
  {
   "cell_type": "markdown",
   "metadata": {},
   "source": [
    "If there is a lot of output, the notebook will allow the output of the cell to be scrolled.  You can also click on the region to the left of the output toggle back and forth between scrolling and no scrolling or double click to hide the output entirely.  Try it by executing the cells below, which define and uses a little function (of course the function could have been used in the cell in which it was defined)."
   ]
  },
  {
   "cell_type": "code",
   "execution_count": 19,
   "metadata": {},
   "outputs": [],
   "source": [
    "def n_to_n(N):\n",
    "    \"\"\"Print n**n for n = 0, ..., N\"\"\"\n",
    "    for n in range(N):\n",
    "        print(n**n)\n"
   ]
  },
  {
   "cell_type": "code",
   "execution_count": 9,
   "metadata": {
    "scrolled": true
   },
   "outputs": [
    {
     "name": "stdout",
     "output_type": "stream",
     "text": [
      "1\n",
      "1\n",
      "4\n",
      "27\n",
      "256\n",
      "3125\n",
      "46656\n",
      "823543\n",
      "16777216\n",
      "387420489\n",
      "10000000000\n",
      "285311670611\n",
      "8916100448256\n",
      "302875106592253\n",
      "11112006825558016\n",
      "437893890380859375\n",
      "18446744073709551616\n",
      "827240261886336764177\n",
      "39346408075296537575424\n",
      "1978419655660313589123979\n",
      "104857600000000000000000000\n",
      "5842587018385982521381124421\n",
      "341427877364219557396646723584\n",
      "20880467999847912034355032910567\n",
      "1333735776850284124449081472843776\n",
      "88817841970012523233890533447265625\n",
      "6156119580207157310796674288400203776\n",
      "443426488243037769948249630619149892803\n",
      "33145523113253374862572728253364605812736\n",
      "2567686153161211134561828214731016126483469\n",
      "205891132094649000000000000000000000000000000\n",
      "17069174130723235958610643029059314756044734431\n",
      "1461501637330902918203684832716283019655932542976\n",
      "129110040087761027839616029934664535539337183380513\n",
      "11756638905368616011414050501310355554617941909569536\n",
      "1102507499354148695951786433413508348166942596435546875\n",
      "106387358923716524807713475752456393740167855629859291136\n",
      "10555134955777783414078330085995832946127396083370199442517\n",
      "1075911801979993982060429252856123779115487368830416064610304\n",
      "112595147462071192539789448988889059930192105219196517009951959\n",
      "12089258196146291747061760000000000000000000000000000000000000000\n",
      "1330877630632711998713399240963346255985889330161650994325137953641\n",
      "150130937545296572356771972164254457814047970568738777235893533016064\n",
      "17343773367030267519903781288812032158308062539012091953077767198995507\n",
      "2050773823560610053645205609172376035486179836520607547294916966189367296\n",
      "248063644451341145494649182395412689744530581492654164321720600128173828125\n",
      "30680346300794274230660433647640397899788170645078853280082659754365153181696\n",
      "3877924263464448622666648186154330754898344901344205917642325627886496385062863\n",
      "500702078263459319174537025249570888246709955377400223021257741084821677152403456\n",
      "66009724686219550843768321818371771650147004059278069406814190436565131829325062449\n",
      "8881784197001252323389053344726562500000000000000000000000000000000000000000000000000\n",
      "1219211305094648479473193481872927834667576992593770717189298225284399541977208231315051\n",
      "170676555274132171974277914691501574771358362295975962674353045737940041855191232907575296\n",
      "24356848165022712132477606520104725518533453128685640844505130879576720609150223301256150373\n",
      "3542118045010639240328481337533320712639808638036812473211109743262552383710557968252383789056\n",
      "524744532468751923546122657597368049278513737089035272057324643668607677682302892208099365234375\n",
      "79164324866862966607842406018063254671922245312646690223362402918484170424104310169552592050323456\n",
      "12158129736671364080886280192352136280305445908985401876990335800107686586023081377754367704855688057\n",
      "1900306380941594479763883944859394903933421733915497351026033862324967197615194912638195921621021097984\n",
      "302182066535432255614734701333399524449282910532282724655138380663835618264136459996754463358299552427939\n",
      "48873677980689257489322752273774603865660850176000000000000000000000000000000000000000000000000000000000000\n",
      "8037480562545943774063961638435258139453693382991023311670379647429452389091570630196571368048020948560431661\n",
      "1343645645152250046583026779322969373035290953763411540290906502671301148502338015157014479136799509522304466944\n",
      "228273036346967044979900512337165522400819024722490933829954793073267717315004135590642802687246850771579138342847\n",
      "39402006196394479212279040100143613805079739270465446667948293404245721771497210611414266254884915640806627990306816\n",
      "6908252164760920851405538694468286082230378724259454186289117297729987129104901877330036086277686990797519683837890625\n",
      "1229984803535237425357460579824952453848609953896821302286319065669207712270213276022808840210306942692366529569453244416\n",
      "222337020242360576812569226538683753874082408437758291741262115823894811650848346334502642370010973465496690788650052277723\n",
      "40794917954274783314474389422963594412010553412954188046665939634971631296545460720786532465498226465248060567545587093733376\n",
      "7596040312163297274222442578208043236112279041839441308045514203595638030283176823539793587591372230230103933110810192201741429\n",
      "1435036016098684342856030763566710717400773837392460666392490000000000000000000000000000000000000000000000000000000000000000000000\n",
      "275006373483461607657434076627252658495183350017755660813753981774508905998081919405140568848353397233796618192645698819765129996471\n",
      "53449019547361999534025300140057538544940601393106611570269540644280818850419033099696863861289188541180498511377339362341642322313216\n",
      "10533405146807286720373659460502060785759379112212598116064998418834781689316645387966435364502141349866164216580595609788325190062013833\n",
      "2104491907585431988618502284342828809117486560121225263528600151456547899286616078556844571139130505063616644582773621942951905668236312576\n",
      "426181657761258833198605424151960757395791315610122269092300199179088043392834051588896184557263865748388820264835885609500110149383544921875\n",
      "87464740776733097769356125936571978049204087241719881761346374524717952404307119962211675102409649648957510056235276523073007403698815894552576\n",
      "18188037387806198379277339915556929647807403283187048631478337739929618787870634227045716719924575689062274471430368865388203540672666042530996797\n",
      "3831589812313461262138726500006414268147534037893115512325908939170687185145438579006950082195309705885134607990418665607337632973770507236843454464\n",
      "817598737071050959409276229318696698168591900537987468276932073768901912096673342793217657607316423968313726492566673678273923566086786121551339775919\n",
      "176684706477838432958329750074291851582748389687561895812160620129261977600000000000000000000000000000000000000000000000000000000000000000000000000000000\n",
      "38662196978715633273404758790074316960214213096178319621856934259807530937321861485192508542873470637501160980081794035970219670238407078788135931371782481\n",
      "8565168191027899133831008848558876386078278675251413891745861716969297101478444754225582357726688645588131450754731704968996267139619369035601073162078388224\n",
      "1920797877785042297826876342398329981366626138903106707239638623062073160162030496354441554187075110650838449453108757445590084411555537438824653742747212640587\n",
      "435973436827325522360279881406914796368935566412408014666801047266959214000936369697318397328752293573138388721289594366953995072735552848220101541587045199118336\n",
      "100140253328453899494506997059845948876248360208192710258703340107188607793155063635811515105559240430619077757390331456723193970237417715907213278114795684814453125\n",
      "23273773687010809805103263055261877739102071580597940409585933109624493442480014587281684425109432546907773222375549181098538730989934437386098275807854764894176935936\n",
      "5472364007515806092890840962213361933646557867359955457554369346343376220574263169290566361924999277451198802156950364045812455566817070274944448633167362192918054601383\n",
      "1301592834942972055182648307417315364538725075960067827915311484722452340966317215805106820959190833309704934346517741237438752456673499160125624414995891111204155079786496\n",
      "313119843606264301926053344163576361349265045995115651405929697601914062309331717222037671868698420619053704956499930323034173850662765737986672484408801585719796136592384409\n",
      "76177348045866392339289727720615561750424801402395196724001565744957137343033038019601000000000000000000000000000000000000000000000000000000000000000000000000000000000000000000\n",
      "18739875497044403588343023979942190913870699099585922106152367184893220649019310617359174987694158429118066514085327846177870674743597929299970612055662195817332948573029136642691\n",
      "4661010870363696423905966214003100982132353937802439629342577411201858740087903585402257017449025558046308403555128684298484146339920553893653953988411898447534660818749990933364736\n",
      "1171963849265444210417582587751248824708146148109809710033315342359111701761656602431435296049358716378517967896050409107202745103300944452206991034477139649315017364735008987336482893\n",
      "297864151605271565671522691888487433398201478214104374836863448020189421697406537648052418936130195867966416829477021503670303547569409436317072769246334246265969267698928260777661956096\n",
      "76514281153818492497108910522923939889608448570427803043646059567958108943618778356292728753731576478313833091931623635414286047187179783985819399826089348692903513438068330287933349609375\n",
      "19862704051982797580576125639477612374708322893151441233985491658847582706097318376646920317555554524971459613579567077892532792722158677152071233347563474577287871314398899332488478637162496\n",
      "5210245939718361468048211048414496022534389576033913164940029913016568215580398296261072019231723279851007241838011659882766685337218633992220688288491655299087016195985205218347711578485744737\n",
      "1380878341261486750656911803252309726876604105686729638072729543243701479670593033211008001443536626310535980077544691196522513327846303307992442770355560270350429006522588433404602387992091295744\n",
      "369729637649726772657187905628805440595668764281741102430259972423552570455277523421410650010128232727940978889548326540119429996769494359451621570193644014418071060667659301384999779999159200499899\n"
     ]
    }
   ],
   "source": [
    "n_to_n(100)"
   ]
  },
  {
   "cell_type": "markdown",
   "metadata": {},
   "source": [
    "## Getting help"
   ]
  },
  {
   "cell_type": "markdown",
   "metadata": {},
   "source": [
    "You may have noticed that when you typed \"range(\" above, IPython gave you some help (the doc-string etc) about the function.  If not, try it in a cell (you can get a new cell below this one by pressing the \"+\" button or from the \"Insert\" menu above.  Likewise, pressing shift-tab will give you the doc-string even when the cursor is not at the end of the line.  Try this too.\n",
    "\n",
    "You can also get help about a function by typing a ? after naming it.  For example, execute the following cell to get information about the sin() function.  So that there are some other functions to try, we first import everything from the math module.  Try some others.\n"
   ]
  },
  {
   "cell_type": "code",
   "execution_count": 14,
   "metadata": {},
   "outputs": [],
   "source": [
    "from math import *"
   ]
  },
  {
   "cell_type": "code",
   "execution_count": 16,
   "metadata": {},
   "outputs": [],
   "source": [
    "sin?"
   ]
  },
  {
   "cell_type": "markdown",
   "metadata": {},
   "source": [
    "You can also see the code for a function by following its name with ??.  For example, the clf() function clears a figure in matplotlib, which is automatically imported, and we can view its definition by executing the next cell.   (Note that if the function is written in C for speed, you won't be able to see its source.)"
   ]
  },
  {
   "cell_type": "code",
   "execution_count": 20,
   "metadata": {},
   "outputs": [],
   "source": [
    "n_to_n??"
   ]
  },
  {
   "cell_type": "markdown",
   "metadata": {},
   "source": [
    "IPython will show you variables in your workspace with %who or %whos.  The leading % introduces an IPython \"magic\".  Help on more of these from %magic"
   ]
  },
  {
   "cell_type": "code",
   "execution_count": 21,
   "metadata": {},
   "outputs": [
    {
     "name": "stdout",
     "output_type": "stream",
     "text": [
      "a\t acos\t acosh\t asin\t asinh\t atan\t atan2\t atanh\t ceil\t \n",
      "comb\t copysign\t cos\t cosh\t degrees\t dist\t e\t erf\t erfc\t \n",
      "exp\t expm1\t fabs\t factorial\t floor\t fmod\t frexp\t fsum\t gamma\t \n",
      "gcd\t hypot\t i\t inf\t isclose\t isfinite\t isinf\t isnan\t isqrt\t \n",
      "lcm\t ldexp\t lgamma\t log\t log10\t log1p\t log2\t modf\t n_to_n\t \n",
      "n_ton\t nan\t nextafter\t perm\t pi\t pow\t prod\t radians\t remainder\t \n",
      "sin\t sinh\t sqrt\t tan\t tanh\t tau\t total\t trunc\t ulp\t \n",
      "\n"
     ]
    }
   ],
   "source": [
    "%who"
   ]
  },
  {
   "cell_type": "code",
   "execution_count": 22,
   "metadata": {
    "scrolled": true
   },
   "outputs": [
    {
     "name": "stdout",
     "output_type": "stream",
     "text": [
      "Variable    Type                          Data/Info\n",
      "---------------------------------------------------\n",
      "a           int                           35\n",
      "acos        builtin_function_or_method    <built-in function acos>\n",
      "acosh       builtin_function_or_method    <built-in function acosh>\n",
      "asin        builtin_function_or_method    <built-in function asin>\n",
      "asinh       builtin_function_or_method    <built-in function asinh>\n",
      "atan        builtin_function_or_method    <built-in function atan>\n",
      "atan2       builtin_function_or_method    <built-in function atan2>\n",
      "atanh       builtin_function_or_method    <built-in function atanh>\n",
      "ceil        builtin_function_or_method    <built-in function ceil>\n",
      "comb        builtin_function_or_method    <built-in function comb>\n",
      "copysign    builtin_function_or_method    <built-in function copysign>\n",
      "cos         builtin_function_or_method    <built-in function cos>\n",
      "cosh        builtin_function_or_method    <built-in function cosh>\n",
      "degrees     builtin_function_or_method    <built-in function degrees>\n",
      "dist        builtin_function_or_method    <built-in function dist>\n",
      "e           float                         2.718281828459045\n",
      "erf         builtin_function_or_method    <built-in function erf>\n",
      "erfc        builtin_function_or_method    <built-in function erfc>\n",
      "exp         builtin_function_or_method    <built-in function exp>\n",
      "expm1       builtin_function_or_method    <built-in function expm1>\n",
      "fabs        builtin_function_or_method    <built-in function fabs>\n",
      "factorial   builtin_function_or_method    <built-in function factorial>\n",
      "floor       builtin_function_or_method    <built-in function floor>\n",
      "fmod        builtin_function_or_method    <built-in function fmod>\n",
      "frexp       builtin_function_or_method    <built-in function frexp>\n",
      "fsum        builtin_function_or_method    <built-in function fsum>\n",
      "gamma       builtin_function_or_method    <built-in function gamma>\n",
      "gcd         builtin_function_or_method    <built-in function gcd>\n",
      "hypot       builtin_function_or_method    <built-in function hypot>\n",
      "i           int                           19\n",
      "inf         float                         inf\n",
      "isclose     builtin_function_or_method    <built-in function isclose>\n",
      "isfinite    builtin_function_or_method    <built-in function isfinite>\n",
      "isinf       builtin_function_or_method    <built-in function isinf>\n",
      "isnan       builtin_function_or_method    <built-in function isnan>\n",
      "isqrt       builtin_function_or_method    <built-in function isqrt>\n",
      "lcm         builtin_function_or_method    <built-in function lcm>\n",
      "ldexp       builtin_function_or_method    <built-in function ldexp>\n",
      "lgamma      builtin_function_or_method    <built-in function lgamma>\n",
      "log         builtin_function_or_method    <built-in function log>\n",
      "log10       builtin_function_or_method    <built-in function log10>\n",
      "log1p       builtin_function_or_method    <built-in function log1p>\n",
      "log2        builtin_function_or_method    <built-in function log2>\n",
      "modf        builtin_function_or_method    <built-in function modf>\n",
      "n_to_n      function                      <function n_to_n at 0x000001A9778659D0>\n",
      "n_ton       function                      <function n_ton at 0x000001A976432820>\n",
      "nan         float                         nan\n",
      "nextafter   builtin_function_or_method    <built-in function nextafter>\n",
      "perm        builtin_function_or_method    <built-in function perm>\n",
      "pi          float                         3.141592653589793\n",
      "pow         builtin_function_or_method    <built-in function pow>\n",
      "prod        builtin_function_or_method    <built-in function prod>\n",
      "radians     builtin_function_or_method    <built-in function radians>\n",
      "remainder   builtin_function_or_method    <built-in function remainder>\n",
      "sin         builtin_function_or_method    <built-in function sin>\n",
      "sinh        builtin_function_or_method    <built-in function sinh>\n",
      "sqrt        builtin_function_or_method    <built-in function sqrt>\n",
      "tan         builtin_function_or_method    <built-in function tan>\n",
      "tanh        builtin_function_or_method    <built-in function tanh>\n",
      "tau         float                         6.283185307179586\n",
      "total       int                           1048574\n",
      "trunc       builtin_function_or_method    <built-in function trunc>\n",
      "ulp         builtin_function_or_method    <built-in function ulp>\n"
     ]
    }
   ],
   "source": [
    "%whos"
   ]
  },
  {
   "cell_type": "markdown",
   "metadata": {},
   "source": [
    "Tab completion also works, so press Tab after the . to see a list of functions that could be imported from math"
   ]
  },
  {
   "cell_type": "code",
   "execution_count": 23,
   "metadata": {},
   "outputs": [],
   "source": [
    "import math"
   ]
  },
  {
   "cell_type": "code",
   "execution_count": null,
   "metadata": {},
   "outputs": [],
   "source": [
    "math."
   ]
  },
  {
   "cell_type": "markdown",
   "metadata": {},
   "source": [
    "Exceptions are formatted nicely to help you see what went wrong.  \n",
    "\n"
   ]
  },
  {
   "cell_type": "code",
   "execution_count": 16,
   "metadata": {},
   "outputs": [
    {
     "ename": "ZeroDivisionError",
     "evalue": "division by zero",
     "output_type": "error",
     "traceback": [
      "\u001b[0;31m---------------------------------------------------------------------------\u001b[0m",
      "\u001b[0;31mZeroDivisionError\u001b[0m                         Traceback (most recent call last)",
      "\u001b[0;32m<ipython-input-16-96da4e2cfe9b>\u001b[0m in \u001b[0;36m<module>\u001b[0;34m\u001b[0m\n\u001b[1;32m      1\u001b[0m \u001b[0mx\u001b[0m \u001b[0;34m=\u001b[0m \u001b[0;36m1\u001b[0m\u001b[0;34m\u001b[0m\u001b[0;34m\u001b[0m\u001b[0m\n\u001b[1;32m      2\u001b[0m \u001b[0my\u001b[0m \u001b[0;34m=\u001b[0m \u001b[0;36m4\u001b[0m\u001b[0;34m\u001b[0m\u001b[0;34m\u001b[0m\u001b[0m\n\u001b[0;32m----> 3\u001b[0;31m \u001b[0mz\u001b[0m \u001b[0;34m=\u001b[0m \u001b[0my\u001b[0m\u001b[0;34m/\u001b[0m\u001b[0;34m(\u001b[0m\u001b[0;36m1\u001b[0m\u001b[0;34m-\u001b[0m\u001b[0mx\u001b[0m\u001b[0;34m)\u001b[0m\u001b[0;34m\u001b[0m\u001b[0;34m\u001b[0m\u001b[0m\n\u001b[0m\u001b[1;32m      4\u001b[0m \u001b[0mprint\u001b[0m\u001b[0;34m(\u001b[0m\u001b[0;34m'The result is'\u001b[0m\u001b[0;34m,\u001b[0m \u001b[0mz\u001b[0m\u001b[0;34m)\u001b[0m\u001b[0;34m\u001b[0m\u001b[0;34m\u001b[0m\u001b[0m\n",
      "\u001b[0;31mZeroDivisionError\u001b[0m: division by zero"
     ]
    }
   ],
   "source": [
    "x = 1\n",
    "y = 4\n",
    "z = y/(1-x)\n",
    "print('The result is', z)"
   ]
  },
  {
   "cell_type": "markdown",
   "metadata": {},
   "source": [
    "In more complicated situations you may also want to use \"pdb\" the Python debugger, which will allow you to inspect the values of variables etc.  This can be invoked automatically on an exception with %pdb (%pdb? and %debug? for more information), but I find that print statements are sufficient for debugging most things."
   ]
  },
  {
   "cell_type": "markdown",
   "metadata": {},
   "source": [
    "## Managing the IPython kernel"
   ]
  },
  {
   "cell_type": "markdown",
   "metadata": {},
   "source": [
    "Code is run in a separate process called the IPython Kernel.  The Kernel can be interrupted or restarted.  Try running the following cell and then press the \"Interrupt kernel\" button (black square) in the toolbar above."
   ]
  },
  {
   "cell_type": "code",
   "execution_count": null,
   "metadata": {
    "ExecuteTime": {
     "end_time": "2017-01-19T21:43:49.869617",
     "start_time": "2017-01-19T21:43:47.026285"
    }
   },
   "outputs": [],
   "source": [
    "import time\n",
    "time.sleep(5)\n",
    "print (\"Too late, you didn't get there in time!\")"
   ]
  },
  {
   "cell_type": "code",
   "execution_count": 17,
   "metadata": {
    "scrolled": true
   },
   "outputs": [
    {
     "name": "stdout",
     "output_type": "stream",
     "text": [
      "Variable    Type                          Data/Info\n",
      "---------------------------------------------------\n",
      "S           int                           1048575\n",
      "a           int                           35\n",
      "acos        builtin_function_or_method    <built-in function acos>\n",
      "acosh       builtin_function_or_method    <built-in function acosh>\n",
      "asin        builtin_function_or_method    <built-in function asin>\n",
      "asinh       builtin_function_or_method    <built-in function asinh>\n",
      "atan        builtin_function_or_method    <built-in function atan>\n",
      "atan2       builtin_function_or_method    <built-in function atan2>\n",
      "atanh       builtin_function_or_method    <built-in function atanh>\n",
      "ceil        builtin_function_or_method    <built-in function ceil>\n",
      "comb        builtin_function_or_method    <built-in function comb>\n",
      "copysign    builtin_function_or_method    <built-in function copysign>\n",
      "cos         builtin_function_or_method    <built-in function cos>\n",
      "cosh        builtin_function_or_method    <built-in function cosh>\n",
      "degrees     builtin_function_or_method    <built-in function degrees>\n",
      "dist        builtin_function_or_method    <built-in function dist>\n",
      "e           float                         2.718281828459045\n",
      "erf         builtin_function_or_method    <built-in function erf>\n",
      "erfc        builtin_function_or_method    <built-in function erfc>\n",
      "exp         builtin_function_or_method    <built-in function exp>\n",
      "expm1       builtin_function_or_method    <built-in function expm1>\n",
      "fabs        builtin_function_or_method    <built-in function fabs>\n",
      "factorial   builtin_function_or_method    <built-in function factorial>\n",
      "floor       builtin_function_or_method    <built-in function floor>\n",
      "fmod        builtin_function_or_method    <built-in function fmod>\n",
      "frexp       builtin_function_or_method    <built-in function frexp>\n",
      "fsum        builtin_function_or_method    <built-in function fsum>\n",
      "gamma       builtin_function_or_method    <built-in function gamma>\n",
      "gcd         builtin_function_or_method    <built-in function gcd>\n",
      "hypot       builtin_function_or_method    <built-in function hypot>\n",
      "i           int                           19\n",
      "inf         float                         inf\n",
      "isclose     builtin_function_or_method    <built-in function isclose>\n",
      "isfinite    builtin_function_or_method    <built-in function isfinite>\n",
      "isinf       builtin_function_or_method    <built-in function isinf>\n",
      "isnan       builtin_function_or_method    <built-in function isnan>\n",
      "isqrt       builtin_function_or_method    <built-in function isqrt>\n",
      "ldexp       builtin_function_or_method    <built-in function ldexp>\n",
      "lgamma      builtin_function_or_method    <built-in function lgamma>\n",
      "log         builtin_function_or_method    <built-in function log>\n",
      "log10       builtin_function_or_method    <built-in function log10>\n",
      "log1p       builtin_function_or_method    <built-in function log1p>\n",
      "log2        builtin_function_or_method    <built-in function log2>\n",
      "modf        builtin_function_or_method    <built-in function modf>\n",
      "n           int                           19\n",
      "n_to_n      function                      <function n_to_n at 0x7fd318eafe50>\n",
      "nan         float                         nan\n",
      "perm        builtin_function_or_method    <built-in function perm>\n",
      "pi          float                         3.141592653589793\n",
      "pow         builtin_function_or_method    <built-in function pow>\n",
      "prod        builtin_function_or_method    <built-in function prod>\n",
      "radians     builtin_function_or_method    <built-in function radians>\n",
      "remainder   builtin_function_or_method    <built-in function remainder>\n",
      "sin         builtin_function_or_method    <built-in function sin>\n",
      "sinh        builtin_function_or_method    <built-in function sinh>\n",
      "sqrt        builtin_function_or_method    <built-in function sqrt>\n",
      "tan         builtin_function_or_method    <built-in function tan>\n",
      "tanh        builtin_function_or_method    <built-in function tanh>\n",
      "tau         float                         6.283185307179586\n",
      "trunc       builtin_function_or_method    <built-in function trunc>\n",
      "x           int                           1\n",
      "y           int                           4\n"
     ]
    }
   ],
   "source": [
    "#  Note that your variables are still there\n",
    "%whos  "
   ]
  },
  {
   "cell_type": "markdown",
   "metadata": {},
   "source": [
    "If for some reason the IPython kernel dies you'll be prompted to restart it.  It's quite hard to kill the kernel accidentally, but the cell below manages it.  Note that afterwards the interactive namespace is empty.  It you want to restart the kernel deliberately (to get a completely clean namespace perhaps), then use the \"Kernel\" menu."
   ]
  },
  {
   "cell_type": "code",
   "execution_count": null,
   "metadata": {
    "ExecuteTime": {
     "start_time": "2017-01-19T21:45:17.385Z"
    }
   },
   "outputs": [],
   "source": [
    "import sys\n",
    "from ctypes import CDLL\n",
    "# This will crash a Linux or Mac system; equivalent calls can be made on Windows\n",
    "dll = 'dylib' if sys.platform == 'darwin' else 'so.6'\n",
    "libc = CDLL(\"libc.%s\" % dll) \n",
    "libc.time(-1)  # BOOM!!"
   ]
  },
  {
   "cell_type": "code",
   "execution_count": 1,
   "metadata": {
    "ExecuteTime": {
     "end_time": "2017-01-19T21:45:32.902336",
     "start_time": "2017-01-19T21:45:32.899233"
    }
   },
   "outputs": [
    {
     "name": "stdout",
     "output_type": "stream",
     "text": [
      "Interactive namespace is empty.\n"
     ]
    }
   ],
   "source": [
    "%whos"
   ]
  },
  {
   "cell_type": "markdown",
   "metadata": {},
   "source": [
    "## Markdown"
   ]
  },
  {
   "cell_type": "markdown",
   "metadata": {},
   "source": [
    "In addition to keeping code and results together, a great advantage of the IPython notebook is that you can write comments, explanations, questions, etc into cells.  These cells (such as this one) are interpreted using <i>Markdown</i>.  Markdown is a popular markup language that is a superset of HTML. Its specification can be found at <http://daringfireball.net/projects/markdown/>.\n",
    "\n",
    "To get a cell interpreted as markdown, select \"Markdown\" from the menu that usually says \"Code\" (to the right of the \"stop\" button).   You can also choose various levels of heading.  Double click on the following cells to see how they were generated."
   ]
  },
  {
   "cell_type": "markdown",
   "metadata": {},
   "source": [
    "### Markdown basics (stolen from the Markdown Cells introductory notebook)"
   ]
  },
  {
   "cell_type": "markdown",
   "metadata": {},
   "source": [
    "You can build nested itemized or enumerated lists:\n",
    "\n",
    "* One\n",
    "    - Sublist\n",
    "        - This\n",
    "  - Sublist\n",
    "        - That\n",
    "        - The other thing\n",
    "* Two\n",
    "  - Sublist\n",
    "* Three\n",
    "  - Sublist\n",
    "\n",
    "Now another list:\n",
    "\n",
    "1. Here we go\n",
    "    1. Sublist\n",
    "    2. Sublist\n",
    "2. There we go\n",
    "3. Now this"
   ]
  },
  {
   "cell_type": "markdown",
   "metadata": {},
   "source": [
    "You can add horizontal rules:\n",
    "\n",
    "---\n"
   ]
  },
  {
   "cell_type": "markdown",
   "metadata": {},
   "source": [
    "And shorthand for links:\n",
    "\n",
    "[IPython's website](http://ipython.org)"
   ]
  },
  {
   "cell_type": "markdown",
   "metadata": {},
   "source": [
    "### Headings"
   ]
  },
  {
   "cell_type": "markdown",
   "metadata": {},
   "source": [
    "If you want, you can add headings using Markdown's syntax:\n",
    "\n",
    "# Heading 1\n",
    "# Heading 2\n",
    "## Heading 2.1\n",
    "## Heading 2.2\n"
   ]
  },
  {
   "cell_type": "markdown",
   "metadata": {},
   "source": [
    "### Embedded code"
   ]
  },
  {
   "cell_type": "markdown",
   "metadata": {},
   "source": [
    "You can embed code meant for illustration instead of execution in Python:\n",
    "\n",
    "    def f(x):\n",
    "        \"\"\"a docstring\"\"\"\n",
    "        return x**2\n",
    "\n",
    "or other languages:\n",
    "\n",
    "    if (i=0; i<n; i++) {\n",
    "      printf(\"hello %d\\n\", i);\n",
    "      x += 4;\n",
    "    }"
   ]
  },
  {
   "cell_type": "markdown",
   "metadata": {},
   "source": [
    "### LaTeX"
   ]
  },
  {
   "cell_type": "markdown",
   "metadata": {},
   "source": [
    "Courtesy of MathJax, you can include mathematical expressions both inline: \n",
    "$e^{i\\pi} + 1 = 0$  and displayed:\n",
    "\n",
    "$$e^x=\\sum_{i=0}^\\infty \\frac{1}{i!}x^i$$\n"
   ]
  },
  {
   "cell_type": "markdown",
   "metadata": {
    "ExecuteTime": {
     "end_time": "2017-01-19T21:45:57.681364",
     "start_time": "2017-01-19T21:45:57.677289"
    }
   },
   "source": [
    "Electromagnetism for beginners:\n",
    "\n",
    "\\begin{aligned}\n",
    "\\nabla \\times \\vec{\\mathbf{B}} -\\, \\frac1c\\, \\frac{\\partial\\vec{\\mathbf{E}}}{\\partial t} & = \\frac{4\\pi}{c}\\vec{\\mathbf{j}} \\\\\n",
    "\\nabla \\cdot \\vec{\\mathbf{E}} & = 4 \\pi \\rho \\\\\n",
    "\\nabla \\times \\vec{\\mathbf{E}}\\, +\\, \\frac1c\\, \\frac{\\partial\\vec{\\mathbf{B}}}{\\partial t} & = \\vec{\\mathbf{0}} \\\\\n",
    "\\nabla \\cdot \\vec{\\mathbf{B}} & = 0\n",
    "\\end{aligned}\n"
   ]
  },
  {
   "cell_type": "markdown",
   "metadata": {},
   "source": [
    "### Images, tables and more"
   ]
  },
  {
   "cell_type": "markdown",
   "metadata": {},
   "source": [
    "IPython can also incorporate images, tables, videos and so on.  Please see the links from 'Notebook help' in the 'Help' menu."
   ]
  },
  {
   "cell_type": "markdown",
   "metadata": {},
   "source": [
    "## Saving your notebook as LaTeX and PDF"
   ]
  },
  {
   "cell_type": "markdown",
   "metadata": {},
   "source": [
    "The whole notebook can be saved as a LaTeX document.  This allows you to edit the document to embellish it and to print it as PDF.   It's more  interesting to have an image in the document, so first we'll generate a simple plot with matplotlib.  More on matplotlib later."
   ]
  },
  {
   "cell_type": "code",
   "execution_count": 2,
   "metadata": {
    "ExecuteTime": {
     "end_time": "2017-01-19T21:46:17.805719",
     "start_time": "2017-01-19T21:46:17.011022"
    }
   },
   "outputs": [
    {
     "name": "stdout",
     "output_type": "stream",
     "text": [
      "Populating the interactive namespace from numpy and matplotlib\n"
     ]
    },
    {
     "data": {
      "text/plain": [
       "Text(0.5, 1.0, 'A Gaussian')"
      ]
     },
     "execution_count": 2,
     "metadata": {},
     "output_type": "execute_result"
    },
    {
     "data": {
      "image/png": "[encoded data removed]",
      "text/plain": [
       "<Figure size 576x576 with 1 Axes>"
      ]
     },
     "metadata": {
      "needs_background": "light"
     },
     "output_type": "display_data"
    }
   ],
   "source": [
    "#Set up numerical Python extensions (numpy) and plotting (matplotlib)\n",
    "%pylab inline\n",
    "figsize(8,8)   # Bigger figures than default\n",
    "\n",
    "x = linspace(-5, 5)\n",
    "y = exp(-x*x/2)/(2*pi)\n",
    "plot(x, y, 'r', lw=2)\n",
    "title('A Gaussian')"
   ]
  },
  {
   "cell_type": "markdown",
   "metadata": {},
   "source": [
    "Probably the easiest way to print the notebook is just to use the \"Print preview\" option from the \"File\" menu and then print or save it from your brower.  Alternatively you can get a LaTeX version or PDF via LaTeX from the \"File -> Download\" menu."
   ]
  },
  {
   "cell_type": "markdown",
   "metadata": {},
   "source": [
    "**Now do the 'Numpy and pylab' notebook.**"
   ]
  }
 ],
 "metadata": {
  "kernelspec": {
   "display_name": "Python 3 (ipykernel)",
   "language": "python",
   "name": "python3"
  },
  "language_info": {
   "codemirror_mode": {
    "name": "ipython",
    "version": 3
   },
   "file_extension": ".py",
   "mimetype": "text/x-python",
   "name": "python",
   "nbconvert_exporter": "python",
   "pygments_lexer": "ipython3",
   "version": "3.9.12"
  },
  "toc": {
   "colors": {
    "hover_highlight": "#DAA520",
    "running_highlight": "#FF0000",
    "selected_highlight": "#FFD700"
   },
   "moveMenuLeft": true,
   "nav_menu": {
    "height": "279px",
    "width": "252px"
   },
   "navigate_menu": true,
   "number_sections": true,
   "sideBar": true,
   "threshold": 4,
   "toc_cell": false,
   "toc_section_display": "block",
   "toc_window_display": false
  }
 },
 "nbformat": 4,
 "nbformat_minor": 1
}
