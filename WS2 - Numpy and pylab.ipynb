{
 "cells": [
  {
   "cell_type": "markdown",
   "metadata": {},
   "source": [
    "# Machine Learning \n",
    "## Worksheet 2: A brief introduction to Numpy and Pylab"
   ]
  },
  {
   "cell_type": "markdown",
   "metadata": {},
   "source": [
    "This notebook is a short introduction to numpy and pylab. Pylab, which is part of Matplotlib, imports lots of common numerical and plotting functions for easy use in IPython. The big advantage to using numpy is its speed and the ability to manipulate an entire vector or matrix in one go.\n",
    "\n",
    "You can get help on Numpy and matplotlib from the IPython notebook \"Help\" menu and there are lots of other tutorials on the web.   Don't forget that ? following a function will bring up a help pane or pressing shift-tab will give \"tooltip\" help.\n",
    "\n",
    "\n",
    "Everything in the Numpy and matplotlib modules are imported using the following pylab \"magic\".  The \"inline\" means that figures will be plotted in the notebook rather than in a separate window.    In addition numpy is imported as \"np\" and matplotlib as \"mpl\", that is the following statements are executed for you\n",
    "\n",
    "\n",
    "    from numpy import *\n",
    "    import numpy as np\n",
    "    from matplotlib import *\n",
    "    import matplotlib as mpl\n"
   ]
  },
  {
   "cell_type": "markdown",
   "metadata": {},
   "source": [
    "Don't forget to trust this notebook if it is not marked as trusted!"
   ]
  },
  {
   "cell_type": "code",
   "execution_count": null,
   "metadata": {},
   "outputs": [],
   "source": [
    "%pylab inline\n",
    "figsize(8,8)"
   ]
  },
  {
   "cell_type": "markdown",
   "metadata": {},
   "source": [
    "### What to do"
   ]
  },
  {
   "cell_type": "markdown",
   "metadata": {},
   "source": [
    "Go through the notebook, executing each cell in turn.  Make sure that you understand the results you get.  Remember that you can go back and re-execute cells and you can add new cells to try other things out."
   ]
  },
  {
   "cell_type": "markdown",
   "metadata": {},
   "source": [
    "## Vectors and Matrices"
   ]
  },
  {
   "cell_type": "markdown",
   "metadata": {},
   "source": [
    "Many algorithms are naturally expressed in terms of vectors and matrices, and an array of data is conveniently expressed as a table, array or matrix.  It will be *much* better to write your code by manipulating vectors or matrices as vectors and matrices rather than writing loops to iterate over the elements: it's easier to program and read.  It's also more efficient, although that's not a major consideration initially. \n",
    "\n",
    "You can make vectors using the asarray function, which converts a list into an array"
   ]
  },
  {
   "cell_type": "code",
   "execution_count": null,
   "metadata": {},
   "outputs": [],
   "source": [
    "A = asarray([1, 2, 4, 3, 7])\n",
    "print(A, type(A), A.dtype)"
   ]
  },
  {
   "cell_type": "markdown",
   "metadata": {},
   "source": [
    "A is a numpy ndarray of 64 bit integers.  If any of the numbers in the list had been floating point numbers the array, would automatically be an array of floating point numbers."
   ]
  },
  {
   "cell_type": "code",
   "execution_count": null,
   "metadata": {},
   "outputs": [],
   "source": [
    "A = asarray([1, 2, 4, 3, 7.0])\n",
    "print(A, type(A), A.dtype)"
   ]
  },
  {
   "cell_type": "markdown",
   "metadata": {},
   "source": [
    "You can also force the type of the array"
   ]
  },
  {
   "cell_type": "code",
   "execution_count": null,
   "metadata": {},
   "outputs": [],
   "source": [
    "A = asarray([1, 2, 4, 3, 7], dtype=np.float64)\n",
    "print(A, type(A), A.dtype)"
   ]
  },
  {
   "cell_type": "markdown",
   "metadata": {},
   "source": [
    "Two dimensional arrays, a.k.a. matrices, can be constructed in the same way from a list of lists:"
   ]
  },
  {
   "cell_type": "code",
   "execution_count": null,
   "metadata": {},
   "outputs": [],
   "source": [
    "B = asarray([ [ 1, 2, 3, 4], [11, 12, 13, 14], [21, 22, 23, 24]], dtype=np.float64)\n",
    "B"
   ]
  },
  {
   "cell_type": "code",
   "execution_count": null,
   "metadata": {},
   "outputs": [],
   "source": [
    "print(B.dtype, B.shape)"
   ]
  },
  {
   "cell_type": "markdown",
   "metadata": {},
   "source": [
    "The shape attribute of the array is a tuple giving the number of rows and columns."
   ]
  },
  {
   "cell_type": "markdown",
   "metadata": {},
   "source": [
    "Numpy has a Matrix class, but the general consensus is that it should not be used.  Just use a 2D array instead."
   ]
  },
  {
   "cell_type": "markdown",
   "metadata": {},
   "source": [
    "## More array creation commands"
   ]
  },
  {
   "cell_type": "markdown",
   "metadata": {},
   "source": [
    "The arange() function is similar to the the range() function, but produces an array"
   ]
  },
  {
   "cell_type": "code",
   "execution_count": null,
   "metadata": {},
   "outputs": [],
   "source": [
    "x = arange(10)\n",
    "x"
   ]
  },
  {
   "cell_type": "markdown",
   "metadata": {},
   "source": [
    "linspace() produces an array of equally spaced values in an open or closed interval:"
   ]
  },
  {
   "cell_type": "code",
   "execution_count": null,
   "metadata": {},
   "outputs": [],
   "source": [
    "print(linspace(5, 13, 20))"
   ]
  },
  {
   "cell_type": "code",
   "execution_count": null,
   "metadata": {},
   "outputs": [],
   "source": [
    "print(linspace(13, 5, 20, endpoint=False))"
   ]
  },
  {
   "cell_type": "markdown",
   "metadata": {},
   "source": [
    "zeros() and ones() unsurprisingly produce arrays of zeros and ones.  Note that the shape parameter is a tuple "
   ]
  },
  {
   "cell_type": "code",
   "execution_count": null,
   "metadata": {},
   "outputs": [],
   "source": [
    "z = zeros(10, dtype=np.float64)\n",
    "print(z)\n",
    "z = zeros((3, 4), dtype=np.float64)\n",
    "print(z)\n",
    "\n",
    "#  Now try the same sort of thing with ones() instead of zeros()"
   ]
  },
  {
   "cell_type": "markdown",
   "metadata": {},
   "source": [
    "It's often helpful to get some random numbers. rand() gives uniformly distributed numbers and randn() gives normally or Gaussian-distributed samples."
   ]
  },
  {
   "cell_type": "code",
   "execution_count": null,
   "metadata": {},
   "outputs": [],
   "source": [
    "N = 100\n",
    "u = rand(N)\n",
    "plot(u, 'b.')    # 'b.' means blue dots.  \n",
    "\n",
    "#  Read the doc-string for plot (plot?) and experiment with plotting. "
   ]
  },
  {
   "cell_type": "code",
   "execution_count": null,
   "metadata": {},
   "outputs": [],
   "source": [
    "normal = randn(1000)\n",
    "plot(normal)"
   ]
  },
  {
   "cell_type": "code",
   "execution_count": null,
   "metadata": {},
   "outputs": [],
   "source": [
    "hist(randn(1000), bins=20)  \n",
    "\n",
    "\n",
    "#  Try this with more samples and more bins to get a histogram closer to the usual Gaussian distribution"
   ]
  },
  {
   "cell_type": "markdown",
   "metadata": {},
   "source": [
    "rand and randn can produce arrays of random numbers"
   ]
  },
  {
   "cell_type": "code",
   "execution_count": null,
   "metadata": {},
   "outputs": [],
   "source": [
    "print(rand(3,4))\n",
    "print()\n",
    "print(randn(5,6))"
   ]
  },
  {
   "cell_type": "markdown",
   "metadata": {},
   "source": [
    "The imshow() function will display arrays"
   ]
  },
  {
   "cell_type": "code",
   "execution_count": null,
   "metadata": {},
   "outputs": [],
   "source": [
    "A = rand(20, 15)\n",
    "imshow(A)\n",
    "colorbar()"
   ]
  },
  {
   "cell_type": "markdown",
   "metadata": {},
   "source": [
    "If you prefer bigger (or smaller) figures, use the figsize() command that sets the default size for figures."
   ]
  },
  {
   "cell_type": "code",
   "execution_count": null,
   "metadata": {},
   "outputs": [],
   "source": [
    "figsize(7, 7)\n",
    "imshow(A, cmap=cm.gray)\n",
    "colorbar()"
   ]
  },
  {
   "cell_type": "markdown",
   "metadata": {},
   "source": [
    "Colormaps are predefined in the cm module.  Press tab after cm. to get a long list  or see https://matplotlib.org/examples/color/colormaps_reference.html"
   ]
  },
  {
   "cell_type": "markdown",
   "metadata": {},
   "source": [
    "Note that you should always label all figures that you generate. Note that you can use Latex expressions for math, eg: "
   ]
  },
  {
   "cell_type": "code",
   "execution_count": null,
   "metadata": {
    "scrolled": false
   },
   "outputs": [],
   "source": [
    "figsize(7, 7)\n",
    "imshow(A, cmap=cm.plasma)\n",
    "colorbar()\n",
    "xlabel(r'$\\alpha$')\n",
    "ylabel(r'$\\beta$')\n",
    "title(r'A graph of the function $\\gamma=\\chi(\\alpha,\\beta)$')\n"
   ]
  },
  {
   "cell_type": "markdown",
   "metadata": {},
   "source": [
    "## Array manipulation"
   ]
  },
  {
   "cell_type": "markdown",
   "metadata": {},
   "source": [
    "Recall that the usual arithmetic operators work on arrays an element at a time.  Here are some examples, but experiment yourself"
   ]
  },
  {
   "cell_type": "code",
   "execution_count": null,
   "metadata": {},
   "outputs": [],
   "source": [
    "a = arange(5)\n",
    "b = rand(5)\n",
    "c = a + b\n",
    "print(a)\n",
    "print(b)\n",
    "print(c)"
   ]
  },
  {
   "cell_type": "code",
   "execution_count": null,
   "metadata": {},
   "outputs": [],
   "source": [
    "print(a*b)           # Element-wise multiplication, not the dot product!\n",
    "print(a**3 + b)"
   ]
  },
  {
   "cell_type": "code",
   "execution_count": null,
   "metadata": {},
   "outputs": [],
   "source": [
    "B = reshape(arange(20), (4,5))\n",
    "B"
   ]
  },
  {
   "cell_type": "code",
   "execution_count": null,
   "metadata": {},
   "outputs": [],
   "source": [
    "print( a @ b)             # Dot or inner product"
   ]
  },
  {
   "cell_type": "code",
   "execution_count": null,
   "metadata": {},
   "outputs": [],
   "source": [
    "print(dot(a, b))          # Same as @, but not so readable"
   ]
  },
  {
   "cell_type": "code",
   "execution_count": null,
   "metadata": {},
   "outputs": [],
   "source": [
    "x = B@a       # Matrix vector multiplication\n",
    "x"
   ]
  },
  {
   "cell_type": "code",
   "execution_count": null,
   "metadata": {},
   "outputs": [],
   "source": [
    "y = a@B     # Why won't this work?"
   ]
  },
  {
   "cell_type": "code",
   "execution_count": null,
   "metadata": {},
   "outputs": [],
   "source": [
    "print(B, \"\\nShape:\", B.shape)\n",
    "print()\n",
    "print(B.T, \"\\nShape:\", B.T.shape)            # Transpose"
   ]
  },
  {
   "cell_type": "markdown",
   "metadata": {},
   "source": [
    "Decide if the following will work before executing the cell"
   ]
  },
  {
   "cell_type": "code",
   "execution_count": null,
   "metadata": {},
   "outputs": [],
   "source": [
    "y = a@B.T           #  Will this work?\n",
    "y"
   ]
  },
  {
   "cell_type": "markdown",
   "metadata": {},
   "source": [
    "#### Functions"
   ]
  },
  {
   "cell_type": "markdown",
   "metadata": {},
   "source": [
    "Most common functions work on arrays"
   ]
  },
  {
   "cell_type": "code",
   "execution_count": null,
   "metadata": {},
   "outputs": [],
   "source": [
    "x = linspace(0, 10, 100)\n",
    "y = cos(x)/10 + exp(-(x-5)**2)\n",
    "plot(x, y, 'r', linewidth=2)\n",
    "title('A strange function', fontsize=22)\n",
    "xlabel('x')\n",
    "ylabel('y(x)')"
   ]
  },
  {
   "cell_type": "markdown",
   "metadata": {},
   "source": [
    "There are many more functions, such as the following available:\n",
    "\n",
    "abs              arccos           arccosh\n",
    "arcsin           arcsinh          arctan\n",
    "arctan2          arctanh          bitwise_and\n",
    "bitwise_not      bitwise_or       bitwise_xor\n",
    "ceil             conj             conjugate\n",
    "cos              cosh             degrees\n",
    "equal            exp              expm1\n",
    "fabs             floor            floor_divide\n",
    "fmod             frexp            hypot\n",
    "invert           isfinite         isinf\n",
    "isnan            ldexp            left_shift\n",
    "log              log10            log1p\n",
    "maximum          minimum          mod\n",
    "modf             ones_like        power\n",
    "radians          right_shift      rint\n",
    "sign             signbit          sin\n",
    "sinh             sqrt             tan\n",
    "tanh             \n",
    "\n",
    "Remember that you can use the question-mark in IPython to inspect the docstrings of any of these.\n",
    "\n"
   ]
  },
  {
   "cell_type": "markdown",
   "metadata": {},
   "source": [
    "There are so many functions in NumPy, that it may sometimes be difficult finding what you are looking for. The lookfor function searches through the NumPy docstrings, and displays the first line of each docstring found:"
   ]
  },
  {
   "cell_type": "code",
   "execution_count": null,
   "metadata": {},
   "outputs": [],
   "source": [
    "lookfor('root')"
   ]
  },
  {
   "cell_type": "markdown",
   "metadata": {},
   "source": [
    "## Array manipulation"
   ]
  },
  {
   "cell_type": "markdown",
   "metadata": {},
   "source": [
    "You can iterate over the elements of an array with a for loop"
   ]
  },
  {
   "cell_type": "code",
   "execution_count": null,
   "metadata": {},
   "outputs": [],
   "source": [
    "y = rand(10)\n",
    "print(y)\n",
    "\n",
    "for i in range(len(y)):\n",
    "    print(i, y[i])\n",
    "\n",
    "print()\n",
    "for element in y:\n",
    "    print(element)\n"
   ]
  },
  {
   "cell_type": "markdown",
   "metadata": {},
   "source": [
    "It's often useful to get rows or columns of an array without using nested loops"
   ]
  },
  {
   "cell_type": "code",
   "execution_count": null,
   "metadata": {},
   "outputs": [],
   "source": [
    "A = rand(6, 4)\n",
    "print(A)\n",
    "print()\n",
    "\n",
    "for row in A:\n",
    "    print(row)     # Each row of A is a vector\n",
    "\n",
    "print()\n",
    "\n",
    "# Do the same with indices\n",
    "for r in range(A.shape[0]):\n",
    "    print('Row %d:' % (r,), A[r,:])          # The : slice means the whole row\n",
    "\n",
    "# Now get the columns\n",
    "print()\n",
    "for c in range(A.shape[1]):\n",
    "    print('Column %d:' % (c,), A[:,c])          # A[:,c] is the c-th column of A"
   ]
  },
  {
   "cell_type": "markdown",
   "metadata": {},
   "source": [
    "## Mandelbrot set"
   ]
  },
  {
   "cell_type": "markdown",
   "metadata": {},
   "source": [
    "Rather than go through a catalogue of things that can be done with numpy and matplotlib, we'll construct a Mandelbrot set.  It doesn't have anything to do with machine learning, but it uses a useful range of numpy functions and techniques.   It is shamelessly stolen from http://mentat.za.net/numpy/intro/intro.html"
   ]
  },
  {
   "cell_type": "markdown",
   "metadata": {},
   "source": [
    "### The theory"
   ]
  },
  {
   "cell_type": "markdown",
   "metadata": {},
   "source": [
    "We will construct the Mandelbrot set, which is all the black points shown above.\n",
    "\n",
    "Given a complex number $z$, make a copy of the number (call it $c$) and follow the iteration:\n",
    "$$ z := z^2 + c$$\n",
    "\n",
    "If this is repeated an infinite number of times (impractical!) the result will either become infinitely large or shrink to zero.  Those starting points whose magnitudes eventually diverge form the Mandelbrot set. \n",
    "\n",
    "Rather than compute an infinite number of iterations, we approximate the set by all those starting points which after 100 iterations have a magnitude greater than 10."
   ]
  },
  {
   "cell_type": "markdown",
   "metadata": {},
   "source": [
    "### Constructing a grid"
   ]
  },
  {
   "cell_type": "markdown",
   "metadata": {},
   "source": [
    "Without NumPy, it is easy enough to do the computation on one number. We'd like to do it on a grid of numbers, and that is where NumPy excels. Let's now construct a grid of numbers on the complex plane.\n"
   ]
  },
  {
   "cell_type": "code",
   "execution_count": null,
   "metadata": {},
   "outputs": [],
   "source": [
    "Ngrid = 1000           # Size of the grid\n",
    "re = linspace(-2, 1, Ngrid)\n",
    "im = linspace(-1.5, 1.5, Ngrid)"
   ]
  },
  {
   "cell_type": "markdown",
   "metadata": {},
   "source": [
    "re now contains Ngrid numbers equally spaced between -2 and 1, and similarly for im.\n",
    "\n",
    "The function meshgrid can be used to generate x and y grid positions.  Try it on a little example first:"
   ]
  },
  {
   "cell_type": "code",
   "execution_count": null,
   "metadata": {},
   "outputs": [],
   "source": [
    "x, y = np.meshgrid([1,2,3], [1,2])\n",
    "\n",
    "print(x)\n",
    "print()\n",
    "print(y)"
   ]
  },
  {
   "cell_type": "markdown",
   "metadata": {},
   "source": [
    "Note how x and y vary in only one direction.  We can build the coordinate positions with meshgrid:"
   ]
  },
  {
   "cell_type": "code",
   "execution_count": null,
   "metadata": {},
   "outputs": [],
   "source": [
    "x, y = np.meshgrid(re, im)\n",
    "\n",
    "# Let check them with imshow()\n",
    "imshow(x)\n",
    "\n",
    "figure()\n",
    "imshow(y)"
   ]
  },
  {
   "cell_type": "markdown",
   "metadata": {},
   "source": [
    "Now make the complex grid.  (Python uses 1j to mean the square root of -1.)"
   ]
  },
  {
   "cell_type": "code",
   "execution_count": null,
   "metadata": {},
   "outputs": [],
   "source": [
    "z = x + 1j*y\n",
    "z.shape    # Check its shape"
   ]
  },
  {
   "cell_type": "markdown",
   "metadata": {},
   "source": [
    "Make of copy of z in c:"
   ]
  },
  {
   "cell_type": "code",
   "execution_count": null,
   "metadata": {},
   "outputs": [],
   "source": [
    "c = z.copy()"
   ]
  },
  {
   "cell_type": "markdown",
   "metadata": {},
   "source": [
    "### Copies and views"
   ]
  },
  {
   "cell_type": "markdown",
   "metadata": {},
   "source": [
    "Why couldn't we just do the following?\n",
    "\n",
    "    c = z\n",
    "\n",
    "In Python, arrays are **mutable** objects, so c = z would just have pointed the variable c to the same memory location as z.  Let's check with a small example:"
   ]
  },
  {
   "cell_type": "code",
   "execution_count": null,
   "metadata": {},
   "outputs": [],
   "source": [
    "# Create a new array \n",
    "a = asarray([1,2,3])\n",
    "\n",
    "# View the first two elements and call it b\n",
    "b = a[:2]\n",
    "print('b =', b)\n",
    "\n",
    "# Now modify the first element of b\n",
    "b[0] = 100\n",
    "print('Modified b =', b)\n",
    "\n",
    "# Since a and b are mutuable, note that a has also changed\n",
    "print('a = ', a)"
   ]
  },
  {
   "cell_type": "markdown",
   "metadata": {},
   "source": [
    "In scientific computation, we often work with large data-sets, and copies use a lot of memory. Therefore, NumPy returns views (not copies) whenever possible.  If you really want a copy (often you don't really), then use x.copy()."
   ]
  },
  {
   "cell_type": "markdown",
   "metadata": {},
   "source": [
    "### Making room"
   ]
  },
  {
   "cell_type": "markdown",
   "metadata": {},
   "source": [
    "We also need a storage container for our output. Let's call it fractal:"
   ]
  },
  {
   "cell_type": "code",
   "execution_count": null,
   "metadata": {},
   "outputs": [],
   "source": [
    "fractal = zeros(z.shape, dtype=np.uint8)"
   ]
  },
  {
   "cell_type": "markdown",
   "metadata": {},
   "source": [
    "This created an array of zeros with the same shape as the grid (Ngrid by Ngrid) and of type uint8.  uint8 means 8-bit unsigned integers, so they can stored integers from 0 to $2^8-1 = 255$. Plain integers (64 bit) would be fine here, but we only need to store a 0 (if the starting point didn't diverge) or 1 (if it did), so 8-bit integers save a bit of space.\n",
    "\n",
    "An alternative ways of getting the space are:\n",
    "\n",
    "    fractal = zeros_like(z, dtype=np.uint8)\n",
    "\n",
    "or \n",
    "\n",
    "    fractal = empty_like(z, dtype=np.uint8)\n",
    "\n",
    "Both of these create arrays with the same shape as z, initialised withe zeros or not initialised to anything in particular, as the next cell illustrates:"
   ]
  },
  {
   "cell_type": "code",
   "execution_count": null,
   "metadata": {},
   "outputs": [],
   "source": [
    "empty((3,2))"
   ]
  },
  {
   "cell_type": "markdown",
   "metadata": {},
   "source": [
    "empty() is very fast becuase it doesn't have to initialise anything, but it's often reassuring to initialise the array. "
   ]
  },
  {
   "cell_type": "markdown",
   "metadata": {},
   "source": [
    "### Generate the fractal"
   ]
  },
  {
   "cell_type": "markdown",
   "metadata": {},
   "source": [
    "We need to repeat the operation z = z + c on our coordinates 100 times:"
   ]
  },
  {
   "cell_type": "code",
   "execution_count": null,
   "metadata": {
    "scrolled": true
   },
   "outputs": [],
   "source": [
    "for n in range(100):\n",
    "    print(\"Iteration %d\" % n)\n",
    "    z *= z\n",
    "    z += c"
   ]
  },
  {
   "cell_type": "markdown",
   "metadata": {},
   "source": [
    "Don't worry about any RuntimeWarnings about overflows and invalid values; they arise because some things are diverged to beyond the capacity of the floating point representation.\n",
    "\n",
    "Note that we make use of *in-place* operators above. It is more efficient to do\n",
    "\n",
    "    x *= 3\n",
    "\n",
    "than \n",
    "    x = x * 3\n",
    "\n",
    "In the first case, x is simply replaced in memory by x * 3. In the second case,\n",
    "\n",
    "  * a temporary array is created,\n",
    "  * x * 3 is calculated and stored in that array, and\n",
    "  * x is modified to point to the temporary array.\n"
   ]
  },
  {
   "cell_type": "markdown",
   "metadata": {},
   "source": [
    "#### Boolean arrays"
   ]
  },
  {
   "cell_type": "markdown",
   "metadata": {},
   "source": [
    "We are about to use  Boolean masks. These are arrays containing Booleans (True or False values), and can be used to index arrays, e.g.\n"
   ]
  },
  {
   "cell_type": "code",
   "execution_count": null,
   "metadata": {},
   "outputs": [],
   "source": [
    "amask = array([True, False, True])\n",
    "arr = array([1, 2, 3])\n",
    "arr[amask]"
   ]
  },
  {
   "cell_type": "markdown",
   "metadata": {},
   "source": [
    "#### Back to the Mandelbrot set"
   ]
  },
  {
   "cell_type": "markdown",
   "metadata": {},
   "source": [
    "We approximate the Mandelbrot set as all points that have a magnitude of greater than 10 after 100 iterations:"
   ]
  },
  {
   "cell_type": "code",
   "execution_count": null,
   "metadata": {},
   "outputs": [],
   "source": [
    "z[isnan(z)] = np.inf\n",
    "mask = (abs(z) > 100)    # Brackets not really necessary here\n",
    "fractal[mask] = 1"
   ]
  },
  {
   "cell_type": "markdown",
   "metadata": {},
   "source": [
    "The first line in the code (z[np.isnan(z)] = np.inf) is a workaround: when squaring very large complex numbers, the result may be nan or not-a-number. To work around this, we ask NumPy to replace all nan values in z with infinity.\n",
    "\n",
    "Now display the fractal with imshow:"
   ]
  },
  {
   "cell_type": "code",
   "execution_count": null,
   "metadata": {},
   "outputs": [],
   "source": [
    "imshow(fractal, cmap=cm.gray)\n",
    "xticks([])\n",
    "yticks([])"
   ]
  },
  {
   "cell_type": "markdown",
   "metadata": {},
   "source": [
    "### Even more beautiful "
   ]
  },
  {
   "cell_type": "markdown",
   "metadata": {},
   "source": [
    "Colour can be added to the Mandelbrot set by plotting the number of iterations that it takes to \"escape\" towards infinity.\n",
    "\n",
    "Here's some code that repeats the above, but plots the colour-coded number of iterations to escape"
   ]
  },
  {
   "cell_type": "code",
   "execution_count": null,
   "metadata": {},
   "outputs": [],
   "source": [
    "Niterations = 100\n",
    "Ngrid = 1000\n",
    "\n",
    "x_min, x_max = -2, 1\n",
    "y_min, y_max = -1.5, 1.5\n",
    "\n",
    "x, y = np.meshgrid(np.linspace(x_min, x_max, Ngrid),\n",
    "                   np.linspace(y_min, y_max, Ngrid))\n",
    "\n",
    "c = x + 1j*y # complex grid\n",
    "z = c.copy()\n",
    "fractal = np.zeros(z.shape, dtype=np.int) + Niterations\n",
    "\n",
    "for n in range(Niterations):\n",
    "    print (n, end=' ')\n",
    "\n",
    "    # --- Uncomment to see different sets ---\n",
    "\n",
    "    # Tricorn\n",
    "    #z = z.conj()\n",
    "\n",
    "    # Burning ship\n",
    "    #z = abs(z.real) + 1j*abs(z.imag)\n",
    "\n",
    "    # ---\n",
    "\n",
    "    z *= z\n",
    "    z += c\n",
    "    mask = (fractal == Niterations) & (abs(z) > 10)\n",
    "    fractal[mask] = n\n",
    "\n",
    "imshow(np.log(fractal), cmap=plt.cm.hot, extent=(x_min, x_max, y_min, y_max))\n",
    "title('Mandelbrot Set')\n",
    "xlabel('Re(z)')\n",
    "ylabel('Im(z)')\n",
    "\n",
    "# Save the figure as a PDF file. \n",
    "# Change the file extension to get other formats.\n",
    "\n",
    "savefig('mandelbrot.pdf', bbox_inches='tight')"
   ]
  },
  {
   "cell_type": "markdown",
   "metadata": {},
   "source": [
    "----\n",
    "\n",
    "# NumPy Exercises "
   ]
  },
  {
   "cell_type": "markdown",
   "metadata": {},
   "source": [
    "Write a NumPy program to test whether none of the elements of a given array is zero."
   ]
  },
  {
   "cell_type": "code",
   "execution_count": null,
   "metadata": {},
   "outputs": [],
   "source": [
    "x = np.array([1, 2, 3, 4])\n",
    "print(\"Original array:\")\n",
    "print(x)\n",
    "print(\"Test if none of the elements of the said array is zero:\")\n",
    "# YOUR CODE HERE\n",
    "#..."
   ]
  },
  {
   "cell_type": "markdown",
   "metadata": {},
   "source": [
    "Write a NumPy program to create an element-wise comparison (equal, equal within a tolerance) of two given arrays."
   ]
  },
  {
   "cell_type": "code",
   "execution_count": null,
   "metadata": {},
   "outputs": [],
   "source": [
    "x = np.array([72, 79, 85, 90, 150, -135, 120, -10, 60, 100])\n",
    "y = np.array([72, 79, 85, 90, 150, -135, 120, -10, 60, 100.000001])\n",
    "print(\"Original numbers:\")\n",
    "print(x)\n",
    "print(y)\n",
    "print(\"Comparison - equal:\")\n",
    "# YOUR CODE HERE\n",
    "#...\n",
    "\n",
    "print(\"Comparison - equal within a tolerance:\")\n",
    "# YOUR CODE HERE\n",
    "#..."
   ]
  },
  {
   "cell_type": "markdown",
   "metadata": {},
   "source": [
    "Write a NumPy program to compute sum of all elements, sum of each column and sum of each row of a given array."
   ]
  },
  {
   "cell_type": "code",
   "execution_count": null,
   "metadata": {},
   "outputs": [],
   "source": [
    "x = np.array([[0,1],[2,3]])\n",
    "print(\"Original array:\")\n",
    "print(x)\n",
    "print(\"Sum of all elements:\")\n",
    "# YOUR CODE HERE\n",
    "#...\n",
    "\n",
    "\n",
    "print(\"Sum of each column:\")\n",
    "# YOUR CODE HERE\n",
    "#...\n",
    "\n",
    "print(\"Sum of each row:\")\n",
    "# YOUR CODE HERE\n",
    "#...\n"
   ]
  },
  {
   "cell_type": "markdown",
   "metadata": {},
   "source": [
    "Write a NumPy program to extract all numbers from a given array which are less and greater than a specified number."
   ]
  },
  {
   "cell_type": "code",
   "execution_count": null,
   "metadata": {},
   "outputs": [],
   "source": [
    "nums = np.array([[5.54, 3.38, 7.99],[3.54, 4.38, 6.99],[1.54, 2.39, 9.29]])\n",
    "print(\"Original array:\")\n",
    "print(nums)\n",
    "n = 5\n",
    "print(\"\\nElements of the said array greater than\",n)\n",
    "# YOUR CODE HERE\n",
    "#...\n",
    "\n",
    "n = 6\n",
    "print(\"\\nElements of the said array less than\",n)\n",
    "# YOUR CODE HERE\n",
    "#...\n"
   ]
  },
  {
   "cell_type": "markdown",
   "metadata": {},
   "source": [
    "Write a NumPy program to swap rows and columns of a given array in reverse order."
   ]
  },
  {
   "cell_type": "code",
   "execution_count": null,
   "metadata": {},
   "outputs": [],
   "source": [
    "nums = np.array([[[1, 2, 3, 4],[0, 1, 3, 4],[90, 91, 93, 94],[5, 0, 3, 2]]])\n",
    "print(\"Original array:\")\n",
    "print(nums)\n",
    "print(\"\\nSwap rows and columns of the said array in reverse order:\")\n",
    "# YOUR CODE HERE\n",
    "#...\n"
   ]
  }
 ],
 "metadata": {
  "kernelspec": {
   "display_name": "Python 3",
   "language": "python",
   "name": "python3"
  },
  "language_info": {
   "codemirror_mode": {
    "name": "ipython",
    "version": 3
   },
   "file_extension": ".py",
   "mimetype": "text/x-python",
   "name": "python",
   "nbconvert_exporter": "python",
   "pygments_lexer": "ipython3",
   "version": "3.8.5"
  },
  "toc": {
   "colors": {
    "hover_highlight": "#DAA520",
    "running_highlight": "#FF0000",
    "selected_highlight": "#FFD700"
   },
   "moveMenuLeft": true,
   "nav_menu": {
    "height": "297px",
    "width": "252px"
   },
   "navigate_menu": true,
   "number_sections": false,
   "sideBar": true,
   "threshold": 4,
   "toc_cell": false,
   "toc_section_display": "block",
   "toc_window_display": true
  }
 },
 "nbformat": 4,
 "nbformat_minor": 1
}
